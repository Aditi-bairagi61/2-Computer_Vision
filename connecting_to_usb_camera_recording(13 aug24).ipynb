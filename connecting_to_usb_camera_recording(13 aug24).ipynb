{
 "cells": [
  {
   "cell_type": "markdown",
   "id": "40edfcff",
   "metadata": {},
   "source": [
    "# vedio processing part"
   ]
  },
  {
   "cell_type": "code",
   "execution_count": null,
   "id": "5c06eb82",
   "metadata": {},
   "outputs": [],
   "source": [
    "OpenCV connecting to a USB camera or a laptop camera \n",
    "\n",
    "openCV can automatically connect to your laptop's built in camera on ur USB\n",
    "https://github.com/opencv/opencv/issues/8471"
   ]
  },
  {
   "cell_type": "markdown",
   "id": "0af3bdde",
   "metadata": {},
   "source": [
    "#### vedio of yourself in gray color"
   ]
  },
  {
   "cell_type": "code",
   "execution_count": 1,
   "id": "d06f49d1",
   "metadata": {},
   "outputs": [],
   "source": [
    "#this code shows the vedio of yourself in gray color and for closing it type q\n",
    "\n",
    "import cv2\n",
    "#connects to your computers default camera\n",
    "cap=cv2.VideoCapture(0)\n",
    "\n",
    "#automatically grab width and height vedio feed\n",
    "#(returns float which we need to convert to integer for later on)\n",
    "width=int(cap.get(cv2.CAP_PROP_FRAME_WIDTH))\n",
    "height=int(cap.get(cv2.CAP_PROP_FRAME_HEIGHT))\n",
    "\n",
    "while True:\n",
    "    \n",
    "    #capture frame by frame\n",
    "    ret,frame=cap.read()\n",
    "    \n",
    "    #our operations on the frame come here\n",
    "    gray=cv2.cvtColor(frame,cv2.COLOR_BGR2GRAY)\n",
    "    \n",
    "    #display the resulting frame\n",
    "    cv2.imshow('frame',gray)\n",
    "    \n",
    "    #this command lets us quit with the \"q\" button on a keyboard.\n",
    "    #simply pressing X on the window won't work\n",
    "    if cv2.waitKey(1) & 0xFF==ord('q'):\n",
    "        break\n",
    "\n",
    "#when everything done, release the capture and destroy the windows\n",
    "cap.release()\n",
    "cv2.destroyAllWindows()"
   ]
  },
  {
   "cell_type": "markdown",
   "id": "542ae5b9",
   "metadata": {},
   "source": [
    "#### vedio of yourself in normal color "
   ]
  },
  {
   "cell_type": "code",
   "execution_count": 2,
   "id": "831bd892",
   "metadata": {},
   "outputs": [],
   "source": [
    "#this code shows the vedio of yourself in normal color  and for closing it type q\n",
    "'''below code is same as above code only change in below 2 lines  \n",
    "# comment to this line =>   #gray=cv2.cvtColor(frame,cv2.COLOR_BGR2GRAY)\n",
    "    cv2.imshow('frame',frame)'''\n",
    "\n",
    "import cv2\n",
    "#connects to your computers default camera\n",
    "cap=cv2.VideoCapture(0)\n",
    "\n",
    "#automatically grab width and height vedio feed\n",
    "#(returns float which we need to convert to integer for later on)\n",
    "width=int(cap.get(cv2.CAP_PROP_FRAME_WIDTH))\n",
    "height=int(cap.get(cv2.CAP_PROP_FRAME_HEIGHT))\n",
    "\n",
    "while True:\n",
    "    \n",
    "    #capture frame by frame\n",
    "    ret,frame=cap.read()\n",
    "    \n",
    "    #our operations on the frame come here\n",
    "    #gray=cv2.cvtColor(frame,cv2.COLOR_BGR2GRAY)\n",
    "    \n",
    "    #display the resulting frame\n",
    "    cv2.imshow('frame',frame)\n",
    "    \n",
    "    #this command lets us quit with the \"q\" button on a keyboard.\n",
    "    #simply pressing X on the window won't work\n",
    "    if cv2.waitKey(1) & 0xFF==ord('q'):\n",
    "        break\n",
    "\n",
    "#when everything done, release the capture and destroy the windows\n",
    "cap.release()\n",
    "cv2.destroyAllWindows()"
   ]
  },
  {
   "cell_type": "markdown",
   "id": "b7339c1f",
   "metadata": {},
   "source": [
    "#### wrting vedio to the storage\n",
    "this code will capture the vedio from screen and store into path which is given in \"d\" drive"
   ]
  },
  {
   "cell_type": "code",
   "execution_count": 4,
   "id": "6ce1197f",
   "metadata": {},
   "outputs": [],
   "source": [
    "#wrting vedio to the storage\n",
    "import cv2\n",
    "#connects to your computers default camera\n",
    "cap=cv2.VideoCapture(0)\n",
    "\n",
    "#automatically grab width and height vedio feed\n",
    "#(returns float which we need to convert to integer for later on)\n",
    "width=int(cap.get(cv2.CAP_PROP_FRAME_WIDTH))\n",
    "height=int(cap.get(cv2.CAP_PROP_FRAME_HEIGHT))\n",
    "\n",
    "#MACOS and linux :*'XVID' \n",
    "writer=cv2.VideoWriter('D:/DS/2-Computer_Vision/student_capture.mp4', cv2.VideoWriter_fourcc(*'XVID'),25,(width,height))\n",
    "\n",
    "while True:\n",
    "    \n",
    "    #capture frame by frame\n",
    "    ret,frame=cap.read()\n",
    "    \n",
    "    writer.write(frame)\n",
    "    \n",
    "    #display the resulting frame\n",
    "    cv2.imshow('frame',frame)\n",
    "     #this command lets us quit with the \"q\" button on a keyboard.\n",
    "    #simply pressing X on the window won't work\n",
    "    if cv2.waitKey(1) & 0xFF==ord('q'):\n",
    "        break\n",
    "\n",
    "#when everything done, release the capture and destroy the windows\n",
    "cap.release()\n",
    "writer.release()\n",
    "cv2.destroyAllWindows()"
   ]
  },
  {
   "cell_type": "code",
   "execution_count": 9,
   "id": "319fa45e",
   "metadata": {},
   "outputs": [],
   "source": [
    "import cv2\n",
    "import time\n",
    "#same command function as streaming, its just now we pass in the file path\n",
    "cap=cv2.VideoCapture(\"D:/DS/2-Computer_Vision/student_capture.mp4\")\n",
    "\n",
    "#FRAMES PER SECOND FOR VEDIO\n",
    "fps=25\n",
    "\n",
    "#always a good idea to check if the vedio was actually there\n",
    "#if you get an error at this step , triple check your file path'\n",
    "if cap.isOpened()==False:\n",
    "    print(\"Error opening the vedio file,please double click on your file path\")\n",
    "\n",
    "#while the vedio file.\n",
    "while cap.isOpened():\n",
    "    \n",
    "    #read the video file\n",
    "    ret, frame=cap.read()\n",
    "    \n",
    "    #if we got frames,show them.\n",
    "    if ret==True:\n",
    "        \n",
    "        #display the frame at same frame rate of recording \n",
    "        time.sleep(1/fps)\n",
    "        cv2.imshow('frame',frame)\n",
    "        \n",
    "        #press q to quit\n",
    "        if cv2.waitKey(1) & 0xFF==ord('q'):\n",
    "            \n",
    "            break\n",
    "            \n",
    "        #or automatically break this whole loop if the video is over.\n",
    "        else:\n",
    "            break\n",
    "cap.release()\n",
    "#closes all the frames\n",
    "cv2.destroyAllWindows()"
   ]
  },
  {
   "cell_type": "code",
   "execution_count": null,
   "id": "cd0a3775",
   "metadata": {},
   "outputs": [],
   "source": []
  }
 ],
 "metadata": {
  "kernelspec": {
   "display_name": "Python 3",
   "language": "python",
   "name": "python3"
  },
  "language_info": {
   "codemirror_mode": {
    "name": "ipython",
    "version": 3
   },
   "file_extension": ".py",
   "mimetype": "text/x-python",
   "name": "python",
   "nbconvert_exporter": "python",
   "pygments_lexer": "ipython3",
   "version": "3.8.8"
  }
 },
 "nbformat": 4,
 "nbformat_minor": 5
}
